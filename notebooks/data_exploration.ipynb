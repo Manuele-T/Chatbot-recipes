{
 "cells": [
  {
   "cell_type": "code",
   "execution_count": 10,
   "metadata": {},
   "outputs": [
    {
     "name": "stdout",
     "output_type": "stream",
     "text": [
      "   RecipeId                               Name  AuthorId      AuthorName  \\\n",
      "0      38.0  Low-Fat Berry Blue Frozen Dessert      1533          Dancer   \n",
      "1      39.0                            Biryani      1567        elly9812   \n",
      "2      40.0                      Best Lemonade      1566  Stephen Little   \n",
      "3      41.0     Carina's Tofu-Vegetable Kebabs      1586         Cyclopz   \n",
      "4      42.0                       Cabbage Soup      1538       Duckie067   \n",
      "\n",
      "  CookTime PrepTime TotalTime             DatePublished  \\\n",
      "0    PT24H    PT45M  PT24H45M 1999-08-09 21:46:00+00:00   \n",
      "1    PT25M     PT4H   PT4H25M 1999-08-29 13:12:00+00:00   \n",
      "2     PT5M    PT30M     PT35M 1999-09-05 19:52:00+00:00   \n",
      "3    PT20M    PT24H  PT24H20M 1999-09-03 14:54:00+00:00   \n",
      "4    PT30M    PT20M     PT50M 1999-09-19 06:19:00+00:00   \n",
      "\n",
      "                                         Description   RecipeCategory  ...  \\\n",
      "0  Make and share this Low-Fat Berry Blue Frozen ...  Frozen Desserts  ...   \n",
      "1  Make and share this Biryani recipe from Food.com.   Chicken Breast  ...   \n",
      "2  This is from one of my  first Good House Keepi...        Beverages  ...   \n",
      "3  This dish is best prepared a day in advance to...         Soy/Tofu  ...   \n",
      "4  Make and share this Cabbage Soup recipe from F...        Vegetable  ...   \n",
      "\n",
      "  SaturatedFatContent CholesterolContent SodiumContent  CarbohydrateContent  \\\n",
      "0                 1.3                8.0          29.8                 37.1   \n",
      "1                16.6              372.8         368.4                 84.4   \n",
      "2                 0.0                0.0           1.8                 81.5   \n",
      "3                 3.8                0.0        1558.6                 64.2   \n",
      "4                 0.1                0.0         959.3                 25.1   \n",
      "\n",
      "   FiberContent  SugarContent  ProteinContent  RecipeServings  RecipeYield  \\\n",
      "0           3.6          30.2             3.2             4.0         None   \n",
      "1           9.0          20.4            63.4             6.0         None   \n",
      "2           0.4          77.2             0.3             4.0         None   \n",
      "3          17.3          32.1            29.3             2.0     4 kebabs   \n",
      "4           4.8          17.7             4.3             4.0         None   \n",
      "\n",
      "                                  RecipeInstructions  \n",
      "0  [Toss 2 cups berries with sugar., Let stand fo...  \n",
      "1  [Soak saffron in warm milk for 5 minutes and p...  \n",
      "2  [Into a 1 quart Jar with tight fitting lid, pu...  \n",
      "3  [Drain the tofu, carefully squeezing out exces...  \n",
      "4  [Mix everything together and bring to a boil.,...  \n",
      "\n",
      "[5 rows x 27 columns]\n"
     ]
    }
   ],
   "source": [
    "import pandas as pd\n",
    "\n",
    "# Load the recipes dataset\n",
    "recipes = pd.read_parquet('../data/recipes.parquet')\n",
    "\n",
    "recipes = recipes.drop(columns=['Images'], errors='ignore')\n",
    "\n",
    "# Check the first few rows\n",
    "print(recipes.head())\n"
   ]
  },
  {
   "cell_type": "code",
   "execution_count": 11,
   "metadata": {},
   "outputs": [
    {
     "name": "stdout",
     "output_type": "stream",
     "text": [
      "<class 'pandas.core.frame.DataFrame'>\n",
      "RangeIndex: 522517 entries, 0 to 522516\n",
      "Data columns (total 27 columns):\n",
      " #   Column                      Non-Null Count   Dtype              \n",
      "---  ------                      --------------   -----              \n",
      " 0   RecipeId                    522517 non-null  float64            \n",
      " 1   Name                        522517 non-null  object             \n",
      " 2   AuthorId                    522517 non-null  int32              \n",
      " 3   AuthorName                  522517 non-null  object             \n",
      " 4   CookTime                    439972 non-null  object             \n",
      " 5   PrepTime                    522517 non-null  object             \n",
      " 6   TotalTime                   522517 non-null  object             \n",
      " 7   DatePublished               522517 non-null  datetime64[us, UTC]\n",
      " 8   Description                 522512 non-null  object             \n",
      " 9   RecipeCategory              521766 non-null  object             \n",
      " 10  Keywords                    522517 non-null  object             \n",
      " 11  RecipeIngredientQuantities  522517 non-null  object             \n",
      " 12  RecipeIngredientParts       522517 non-null  object             \n",
      " 13  AggregatedRating            269294 non-null  float64            \n",
      " 14  ReviewCount                 275028 non-null  float64            \n",
      " 15  Calories                    522517 non-null  float64            \n",
      " 16  FatContent                  522517 non-null  float64            \n",
      " 17  SaturatedFatContent         522517 non-null  float64            \n",
      " 18  CholesterolContent          522517 non-null  float64            \n",
      " 19  SodiumContent               522517 non-null  float64            \n",
      " 20  CarbohydrateContent         522517 non-null  float64            \n",
      " 21  FiberContent                522517 non-null  float64            \n",
      " 22  SugarContent                522517 non-null  float64            \n",
      " 23  ProteinContent              522517 non-null  float64            \n",
      " 24  RecipeServings              339606 non-null  float64            \n",
      " 25  RecipeYield                 174446 non-null  object             \n",
      " 26  RecipeInstructions          522517 non-null  object             \n",
      "dtypes: datetime64[us, UTC](1), float64(13), int32(1), object(12)\n",
      "memory usage: 105.6+ MB\n",
      "None\n"
     ]
    }
   ],
   "source": [
    "# Get info about the dataset\n",
    "print(recipes.info())\n"
   ]
  },
  {
   "cell_type": "code",
   "execution_count": 8,
   "metadata": {},
   "outputs": [
    {
     "name": "stdout",
     "output_type": "stream",
     "text": [
      "<class 'pandas.core.frame.DataFrame'>\n",
      "Index: 28648 entries, 3 to 522039\n",
      "Data columns (total 27 columns):\n",
      " #   Column                      Non-Null Count  Dtype              \n",
      "---  ------                      --------------  -----              \n",
      " 0   RecipeId                    28648 non-null  float64            \n",
      " 1   Name                        28648 non-null  object             \n",
      " 2   AuthorId                    28648 non-null  int32              \n",
      " 3   AuthorName                  28648 non-null  object             \n",
      " 4   CookTime                    28648 non-null  object             \n",
      " 5   PrepTime                    28648 non-null  object             \n",
      " 6   TotalTime                   28648 non-null  object             \n",
      " 7   DatePublished               28648 non-null  datetime64[us, UTC]\n",
      " 8   Description                 28648 non-null  object             \n",
      " 9   RecipeCategory              28648 non-null  object             \n",
      " 10  Keywords                    28648 non-null  object             \n",
      " 11  RecipeIngredientQuantities  28648 non-null  object             \n",
      " 12  RecipeIngredientParts       28648 non-null  object             \n",
      " 13  AggregatedRating            28648 non-null  float64            \n",
      " 14  ReviewCount                 28648 non-null  float64            \n",
      " 15  Calories                    28648 non-null  float64            \n",
      " 16  FatContent                  28648 non-null  float64            \n",
      " 17  SaturatedFatContent         28648 non-null  float64            \n",
      " 18  CholesterolContent          28648 non-null  float64            \n",
      " 19  SodiumContent               28648 non-null  float64            \n",
      " 20  CarbohydrateContent         28648 non-null  float64            \n",
      " 21  FiberContent                28648 non-null  float64            \n",
      " 22  SugarContent                28648 non-null  float64            \n",
      " 23  ProteinContent              28648 non-null  float64            \n",
      " 24  RecipeServings              28648 non-null  float64            \n",
      " 25  RecipeYield                 28648 non-null  object             \n",
      " 26  RecipeInstructions          28648 non-null  object             \n",
      "dtypes: datetime64[us, UTC](1), float64(13), int32(1), object(12)\n",
      "memory usage: 6.0+ MB\n",
      "None\n"
     ]
    }
   ],
   "source": [
    "\n",
    "# Get info about the dataset\n",
    "print(recipes.info())\n"
   ]
  }
 ],
 "metadata": {
  "kernelspec": {
   "display_name": "base",
   "language": "python",
   "name": "python3"
  },
  "language_info": {
   "codemirror_mode": {
    "name": "ipython",
    "version": 3
   },
   "file_extension": ".py",
   "mimetype": "text/x-python",
   "name": "python",
   "nbconvert_exporter": "python",
   "pygments_lexer": "ipython3",
   "version": "3.12.4"
  }
 },
 "nbformat": 4,
 "nbformat_minor": 2
}
