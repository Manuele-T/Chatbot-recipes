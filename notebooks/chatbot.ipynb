{
 "cells": [
  {
   "cell_type": "markdown",
   "metadata": {},
   "source": [
    "# Chatbot testing file"
   ]
  },
  {
   "cell_type": "code",
   "execution_count": 1,
   "metadata": {},
   "outputs": [],
   "source": [
    "import pandas as pd\n",
    "\n",
    "# Load the cleaned dataset\n",
    "recipes = pd.read_parquet(r'D:\\Projects\\AI and ML project\\Chatbot-recipes\\data\\cleaned_recipes.parquet')"
   ]
  },
  {
   "cell_type": "code",
   "execution_count": 2,
   "metadata": {},
   "outputs": [],
   "source": [
    "# Function to search for recipes by ingredient\n",
    "def search_by_ingredient(ingredient):\n",
    "    matches = recipes[recipes['RecipeIngredientParts'].apply(\n",
    "        lambda x: any(ingredient.lower() in item.lower() for item in x)\n",
    "    )]\n",
    "    return matches[['Name', 'RecipeInstructions']]\n",
    "\n",
    "# Function to search for recipes by ingredients (list)\n",
    "def search_by_ingredients(ingredients):\n",
    "    matches = recipes[recipes['RecipeIngredientParts'].apply(\n",
    "        lambda x: all(any(ing.lower() in item.lower() for item in x) for ing in ingredients)\n",
    "    )]\n",
    "    return matches[['Name', 'RecipeInstructions']]\n",
    "\n",
    "# Function to search for recipes by name or keyword\n",
    "def search_by_recipe_name(name):\n",
    "    matches = recipes[recipes['Name'].str.contains(name, case=False, na=False)]\n",
    "    return matches[['Name', 'RecipeInstructions']]\n",
    "\n",
    "# Function to filter recipes by Category\n",
    "def filter_by_category(category):\n",
    "    matches = recipes[recipes['RecipeCategory'].str.contains(category, case=False, na=False)]\n",
    "    return matches[['Name', 'RecipeInstructions']]\n",
    "\n",
    "# Function to filter recipes by nutritional content\n",
    "def filter_by_nutrition(max_calories=None, max_sodium=None):\n",
    "    filtered = recipes\n",
    "    if max_calories is not None:\n",
    "        filtered = filtered[filtered['Calories'] <= max_calories]\n",
    "    if max_sodium is not None:\n",
    "        filtered = filtered[filtered['SodiumContent'] <= max_sodium]\n",
    "    return filtered[['Name', 'RecipeInstructions', 'Calories', 'SodiumContent']]\n",
    "\n",
    "# Function to recommend recipes based on user preferences\n",
    "def recommend_recipes(cuisine=None, max_cook_time=None):\n",
    "    filtered = recipes\n",
    "    if cuisine:\n",
    "        filtered = filtered[filtered['Keywords'].apply(lambda x: cuisine.lower() in [kw.lower() for kw in x])]\n",
    "    if max_cook_time:\n",
    "        filtered = filtered[filtered['TotalTime'] <= max_cook_time]\n",
    "    return filtered[['Name', 'RecipeInstructions', 'TotalTime']]\n",
    "\n",
    "# Combined function to search, filter and recommend recipes\n",
    "def search_recipes(ingredient=None, category=None, max_calories=None):\n",
    "    filtered = recipes\n",
    "    if ingredient:\n",
    "        filtered = filtered[filtered['RecipeIngredientParts'].apply(\n",
    "            lambda x: any(ingredient.lower() in item.lower() for item in x)\n",
    "        )]\n",
    "    if category:\n",
    "        filtered = filtered[filtered['RecipeCategory'].str.contains(category, case=False, na=False)]\n",
    "    if max_calories:\n",
    "        filtered = filtered[filtered['Calories'] <= max_calories]\n",
    "    return filtered[['Name', 'RecipeInstructions', 'Calories']]"
   ]
  },
  {
   "cell_type": "code",
   "execution_count": 4,
   "metadata": {},
   "outputs": [
    {
     "data": {
      "text/html": [
       "<div>\n",
       "<style scoped>\n",
       "    .dataframe tbody tr th:only-of-type {\n",
       "        vertical-align: middle;\n",
       "    }\n",
       "\n",
       "    .dataframe tbody tr th {\n",
       "        vertical-align: top;\n",
       "    }\n",
       "\n",
       "    .dataframe thead th {\n",
       "        text-align: right;\n",
       "    }\n",
       "</style>\n",
       "<table border=\"1\" class=\"dataframe\">\n",
       "  <thead>\n",
       "    <tr style=\"text-align: right;\">\n",
       "      <th></th>\n",
       "      <th>Name</th>\n",
       "      <th>RecipeInstructions</th>\n",
       "      <th>Calories</th>\n",
       "    </tr>\n",
       "  </thead>\n",
       "  <tbody>\n",
       "    <tr>\n",
       "      <th>15767</th>\n",
       "      <td>Honey Lime Chicken</td>\n",
       "      <td>[Mix first three ingredients in a plastic bag ...</td>\n",
       "      <td>281.5</td>\n",
       "    </tr>\n",
       "    <tr>\n",
       "      <th>39536</th>\n",
       "      <td>Greek Lemon Soup</td>\n",
       "      <td>[Pour the broth into a pot and bring it gradua...</td>\n",
       "      <td>227.7</td>\n",
       "    </tr>\n",
       "    <tr>\n",
       "      <th>42984</th>\n",
       "      <td>Marinated Orange Stir Fry Chicken</td>\n",
       "      <td>[Stir together orange juice and peel, garlic, ...</td>\n",
       "      <td>280.6</td>\n",
       "    </tr>\n",
       "    <tr>\n",
       "      <th>48923</th>\n",
       "      <td>Pan Roasted Chicken</td>\n",
       "      <td>[Heat oil over medium/low heat., Add garlic an...</td>\n",
       "      <td>209.7</td>\n",
       "    </tr>\n",
       "    <tr>\n",
       "      <th>51373</th>\n",
       "      <td>Fettuccine with Tomato Clam Sauce</td>\n",
       "      <td>[Soak tomatoes in boiling water for 5 minutes....</td>\n",
       "      <td>202.0</td>\n",
       "    </tr>\n",
       "  </tbody>\n",
       "</table>\n",
       "</div>"
      ],
      "text/plain": [
       "                                    Name  \\\n",
       "15767                 Honey Lime Chicken   \n",
       "39536                   Greek Lemon Soup   \n",
       "42984  Marinated Orange Stir Fry Chicken   \n",
       "48923                Pan Roasted Chicken   \n",
       "51373  Fettuccine with Tomato Clam Sauce   \n",
       "\n",
       "                                      RecipeInstructions  Calories  \n",
       "15767  [Mix first three ingredients in a plastic bag ...     281.5  \n",
       "39536  [Pour the broth into a pot and bring it gradua...     227.7  \n",
       "42984  [Stir together orange juice and peel, garlic, ...     280.6  \n",
       "48923  [Heat oil over medium/low heat., Add garlic an...     209.7  \n",
       "51373  [Soak tomatoes in boiling water for 5 minutes....     202.0  "
      ]
     },
     "execution_count": 4,
     "metadata": {},
     "output_type": "execute_result"
    }
   ],
   "source": [
    "# Example call\n",
    "result = search_recipes(ingredient=\"chicken\", category=\"Healthy\", max_calories=300)\n",
    "result.head()"
   ]
  }
 ],
 "metadata": {
  "kernelspec": {
   "display_name": "Python 3",
   "language": "python",
   "name": "python3"
  },
  "language_info": {
   "codemirror_mode": {
    "name": "ipython",
    "version": 3
   },
   "file_extension": ".py",
   "mimetype": "text/x-python",
   "name": "python",
   "nbconvert_exporter": "python",
   "pygments_lexer": "ipython3",
   "version": "3.11.9"
  }
 },
 "nbformat": 4,
 "nbformat_minor": 2
}
